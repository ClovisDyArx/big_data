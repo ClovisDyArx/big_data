{
  "nbformat": 4,
  "nbformat_minor": 0,
  "metadata": {
    "colab": {
      "provenance": []
    },
    "kernelspec": {
      "name": "python3",
      "display_name": "Python 3"
    },
    "language_info": {
      "name": "python"
    }
  },
  "cells": [
    {
      "cell_type": "markdown",
      "source": [
        "# TP : Spark SQL"
      ],
      "metadata": {
        "id": "lIwvRHyK0BfF"
      }
    },
    {
      "cell_type": "markdown",
      "source": [
        "Imagine you're analyzing sales data for a retail company. You need to answer questions like: \"What is the average order value per customer?\" and \"Which products are most popular in each region?\"\n",
        "\n",
        "By using Spark SQL to query structured data in a DataFrame, you can efficiently analyze large datasets that would be cumbersome with traditional SQL."
      ],
      "metadata": {
        "id": "gmCX_EC25vSC"
      }
    },
    {
      "cell_type": "code",
      "execution_count": 1,
      "metadata": {
        "colab": {
          "base_uri": "https://localhost:8080/"
        },
        "id": "PhVk7YwuznYx",
        "outputId": "2b8fa516-55f4-4500-bf4a-ee93e738444b"
      },
      "outputs": [
        {
          "output_type": "stream",
          "name": "stderr",
          "text": [
            "<ipython-input-1-6053c13f21be>:10: FutureWarning: 'T' is deprecated and will be removed in a future version, please use 'min' instead.\n",
            "  'date': pd.date_range(start=\"2021-01-01\", periods=500000, freq='T').to_numpy(),\n"
          ]
        }
      ],
      "source": [
        "import pandas as pd\n",
        "import numpy as np\n",
        "\n",
        "# Generate a fake dataset\n",
        "data = {\n",
        "    'transaction_id': np.arange(1, 500001),\n",
        "    'product_id': np.random.randint(1, 1000, 500000),\n",
        "    'product_category': np.random.choice(['Electronics', 'Clothing', 'Books'], 500000),\n",
        "    'region': np.random.choice(['North', 'South', 'East', 'West'], 500000),\n",
        "    'date': pd.date_range(start=\"2021-01-01\", periods=500000, freq='T').to_numpy(),\n",
        "    'units_sold': np.random.randint(1, 10, 500000),\n",
        "    'price_per_unit': np.round(np.random.uniform(5.0, 500.0, 500000), 2)\n",
        "}\n",
        "df = pd.DataFrame(data)"
      ]
    },
    {
      "cell_type": "markdown",
      "source": [
        "TODO: convert to Spark Dataframe"
      ],
      "metadata": {
        "id": "DxwKW-PW0MDj"
      }
    },
    {
      "cell_type": "code",
      "source": [
        "from pyspark.sql import SparkSession\n",
        "\n",
        "spark = SparkSession.builder.appName(\"Sales Analysis\").getOrCreate()"
      ],
      "metadata": {
        "id": "hyOCodmhq1lx"
      },
      "execution_count": 2,
      "outputs": []
    },
    {
      "cell_type": "code",
      "source": [
        "sales_df = spark.createDataFrame(df)"
      ],
      "metadata": {
        "id": "t_KX35o1sOph"
      },
      "execution_count": 3,
      "outputs": []
    },
    {
      "cell_type": "markdown",
      "source": [
        "TODO: Register DataFrame as a SQL temporary view to be able to write queries\n"
      ],
      "metadata": {
        "id": "LICuFa-qrOQF"
      }
    },
    {
      "cell_type": "code",
      "source": [
        "sales_df.createOrReplaceTempView(\"sales\")"
      ],
      "metadata": {
        "id": "rwMMacharPcJ"
      },
      "execution_count": 5,
      "outputs": []
    },
    {
      "cell_type": "code",
      "source": [
        "spark.sql(\"\"\"\n",
        "    SELECT region, product_category, SUM(units_sold * price_per_unit) AS total_sales\n",
        "    FROM sales\n",
        "    GROUP BY region, product_category\n",
        "    ORDER BY total_sales DESC\n",
        "\"\"\").show()\n"
      ],
      "metadata": {
        "colab": {
          "base_uri": "https://localhost:8080/"
        },
        "id": "HTZma6fs0TPo",
        "outputId": "40a05a3c-aad1-4113-b2fe-a42e61d4e2a6"
      },
      "execution_count": 6,
      "outputs": [
        {
          "output_type": "stream",
          "name": "stdout",
          "text": [
            "+------+----------------+--------------------+\n",
            "|region|product_category|         total_sales|\n",
            "+------+----------------+--------------------+\n",
            "|  East|           Books| 5.324971638000001E7|\n",
            "| North|        Clothing|5.3162704059999965E7|\n",
            "|  East|        Clothing| 5.283382620000026E7|\n",
            "| South|        Clothing|5.2808149290000245E7|\n",
            "| North|           Books|5.2766624379999906E7|\n",
            "| North|     Electronics| 5.273638291999996E7|\n",
            "| South|     Electronics| 5.260839055000003E7|\n",
            "|  West|           Books| 5.253863979999991E7|\n",
            "|  East|     Electronics| 5.248750412000005E7|\n",
            "|  West|     Electronics| 5.226472397999978E7|\n",
            "|  West|        Clothing| 5.226362556000003E7|\n",
            "| South|           Books| 5.212958317000002E7|\n",
            "+------+----------------+--------------------+\n",
            "\n"
          ]
        }
      ]
    },
    {
      "cell_type": "markdown",
      "source": [
        "TODO : write and execute query to get the top 5 products by sales"
      ],
      "metadata": {
        "id": "9tqn8S4A0ZXX"
      }
    },
    {
      "cell_type": "code",
      "source": [
        "spark.sql(\"\"\"\n",
        "\"\"\").show()"
      ],
      "metadata": {
        "colab": {
          "base_uri": "https://localhost:8080/"
        },
        "id": "3LLc6fQ_0Wka",
        "outputId": "17f9a752-6e4e-494e-9d6b-90d7b30bde5e"
      },
      "execution_count": null,
      "outputs": [
        {
          "output_type": "stream",
          "name": "stdout",
          "text": [
            "+----------+-----------------+\n",
            "|product_id|      total_sales|\n",
            "+----------+-----------------+\n",
            "|       976|748420.7199999995|\n",
            "|       158|744019.4199999999|\n",
            "|       591|738351.1300000006|\n",
            "|         3|        726578.54|\n",
            "|       761|726477.1999999997|\n",
            "+----------+-----------------+\n",
            "\n"
          ]
        }
      ]
    }
  ]
}